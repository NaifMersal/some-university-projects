{
 "cells": [
  {
   "cell_type": "code",
   "execution_count": 3,
   "metadata": {},
   "outputs": [
    {
     "data": {
      "text/html": [
       "\n",
       "        <iframe\n",
       "            width=\"600\"\n",
       "            height=\"300\"\n",
       "            src=\"./OP Project requirements\"\n",
       "            frameborder=\"0\"\n",
       "            allowfullscreen\n",
       "            \n",
       "        ></iframe>\n",
       "        "
      ],
      "text/plain": [
       "<IPython.lib.display.IFrame at 0x22cfabef940>"
      ]
     },
     "metadata": {},
     "output_type": "display_data"
    }
   ],
   "source": [
    "from IPython.display import IFrame\n",
    "IFrame(\"./assets/OP Project requirements\", width=600, height=300)"
   ]
  },
  {
   "attachments": {},
   "cell_type": "markdown",
   "metadata": {},
   "source": [
    "# loding the data and libraries "
   ]
  },
  {
   "cell_type": "code",
   "execution_count": 1,
   "metadata": {},
   "outputs": [],
   "source": [
    "import requests\n",
    "import pandas as pd\n",
    "import itertools\n",
    "from heapq import heapify,heappush,heappop\n",
    "import random as rd"
   ]
  },
  {
   "cell_type": "code",
   "execution_count": 2,
   "metadata": {},
   "outputs": [],
   "source": [
    "data=dict()\n",
    "for i in range(1,9):\n",
    "    key=f'p0{i}'\n",
    "    data[key]={}\n",
    "    data[key]['W']=[int(num)for num in (requests.get(f'https://people.sc.fsu.edu/~jburkardt/datasets/knapsack_01/p0{i}_w.txt').text.split('\\n')[:-1])]\n",
    "    data[key]['V']=[int(num)for num in (requests.get(f'https://people.sc.fsu.edu/~jburkardt/datasets/knapsack_01/p0{i}_p.txt').text.split('\\n')[:-1])]\n",
    "    data[key]['C']= int (requests.get(f'https://people.sc.fsu.edu/~jburkardt/datasets/knapsack_01/p0{i}_c.txt').text.split('\\n')[0])\n",
    "    data[key]['S']=[int(num)for num in (requests.get(f'https://people.sc.fsu.edu/~jburkardt/datasets/knapsack_01/p0{i}_s.txt').text.split('\\n')[:-1])]"
   ]
  },
  {
   "cell_type": "code",
   "execution_count": 3,
   "metadata": {},
   "outputs": [
    {
     "data": {
      "text/plain": [
       "{'W': [23, 31, 29, 44, 53, 38, 63, 85, 89, 82],\n",
       " 'V': [92, 57, 49, 68, 60, 43, 67, 84, 87, 72],\n",
       " 'C': 165,\n",
       " 'S': [1, 1, 1, 1, 0, 1, 0, 0, 0, 0]}"
      ]
     },
     "execution_count": 3,
     "metadata": {},
     "output_type": "execute_result"
    }
   ],
   "source": [
    "data['p01']"
   ]
  },
  {
   "attachments": {},
   "cell_type": "markdown",
   "metadata": {},
   "source": [
    "# Approximate Methods"
   ]
  },
  {
   "attachments": {},
   "cell_type": "markdown",
   "metadata": {},
   "source": [
    "## basic greedy"
   ]
  },
  {
   "cell_type": "code",
   "execution_count": 4,
   "metadata": {},
   "outputs": [],
   "source": [
    "def knapsack_greedy(W, V, C , M=1, big_first=True, on_W=True, on_V=True):\n",
    "    if on_V and on_W:\n",
    "        heuristic_list=[(V[i]/W[i], i) for i in range(len(W))]\n",
    "    elif on_W:\n",
    "       heuristic_list=[(W[i], i) for i in range(len(W))]   \n",
    "    elif on_V:\n",
    "        heuristic_list=[(V[i], i) for i in range(len(W))]\n",
    "    \n",
    "    heuristic_list.sort(key= lambda l:l[0], reverse=big_first) #sort upon v/w\n",
    "    best_picked=None\n",
    "    best_v=-float('inf')\n",
    "    best_w=0\n",
    "    for m in range(M):\n",
    "        picked = [0] * len(W) # make list of zeros\n",
    "        total_w=0\n",
    "        total_v=0\n",
    "        for i in range(m,m+len(W)):\n",
    "            i%=len(W)\n",
    "            item_index=heuristic_list[i][1]\n",
    "            if total_w+ W[item_index]<= C:\n",
    "                total_w+= W[item_index]\n",
    "                total_v+= V[item_index]\n",
    "                picked[item_index]=1\n",
    "        \n",
    "        if total_v> best_v:\n",
    "            best_v=total_v\n",
    "            best_bag=picked\n",
    "            best_w=total_w\n",
    "    return best_bag[::-1], best_v,best_w"
   ]
  },
  {
   "attachments": {},
   "cell_type": "markdown",
   "metadata": {},
   "source": [
    "## basic greedy with diffrent heuristics\n",
    "get the best resault using diffrent heuristics"
   ]
  },
  {
   "cell_type": "code",
   "execution_count": 5,
   "metadata": {},
   "outputs": [],
   "source": [
    "def knapsack_greedy_foreset(W, V, C):\n",
    "    all_best=[]\n",
    "    for bb,wb, vb in itertools.product([True,False],repeat=3):\n",
    "        if wb==False and vb==False:\n",
    "            continue\n",
    "        all_best.append(knapsack_greedy(W,V,C,len(W),bb, wb, vb))\n",
    "    return max(all_best, key= lambda l:l[1])"
   ]
  },
  {
   "attachments": {},
   "cell_type": "markdown",
   "metadata": {},
   "source": [
    "## Greedy best"
   ]
  },
  {
   "attachments": {},
   "cell_type": "markdown",
   "metadata": {},
   "source": [
    "### playing with binary before writing the algorithm to be sure"
   ]
  },
  {
   "cell_type": "code",
   "execution_count": 6,
   "metadata": {},
   "outputs": [
    {
     "name": "stdout",
     "output_type": "stream",
     "text": [
      "[0, 0, 1, 0, 0, 0, 0, 1, 0, 0]\n",
      "0 0b10000100\n",
      "0b10000101\n",
      "----------\n",
      "1 0b10000100\n",
      "0b10000110\n",
      "----------\n",
      "2 0b10000100\n",
      "----------\n",
      "3 0b10000100\n",
      "0b10001100\n",
      "----------\n",
      "4 0b10000100\n",
      "0b10010100\n",
      "----------\n",
      "5 0b10000100\n",
      "0b10100100\n",
      "----------\n",
      "6 0b10000100\n",
      "0b11000100\n",
      "----------\n",
      "7 0b10000100\n",
      "----------\n",
      "8 0b10000100\n",
      "0b110000100\n",
      "----------\n",
      "9 0b10000100\n",
      "0b1010000100\n",
      "----------\n"
     ]
    }
   ],
   "source": [
    "picks=132\n",
    "all_picked=2**10\n",
    "l=[0]*10\n",
    "new=[0]*10\n",
    "for i in range(10) :\n",
    "    m=picks&1\n",
    "    picks>>=1\n",
    "    l[10-i-1]=m\n",
    "print(l)\n",
    "picks=132\n",
    "k=picks\n",
    "for i in range(10) :\n",
    "    m=k&1\n",
    "    k>>=1\n",
    "    print(i,bin(picks))\n",
    "    if m==0:\n",
    "        print(bin(picks|1<<(i)))\n",
    "    print(10*'-')"
   ]
  },
  {
   "attachments": {},
   "cell_type": "markdown",
   "metadata": {},
   "source": [
    "### A star search\n",
    "this give optimal solutiion (as brute force with exploring good solutions)"
   ]
  },
  {
   "cell_type": "code",
   "execution_count": 7,
   "metadata": {},
   "outputs": [],
   "source": [
    "class Node:\n",
    "    def __init__(self,w, v, level,heuristic,picked):\n",
    "        self.level=level\n",
    "        self.picked=picked\n",
    "        self.w=w\n",
    "        self.v=v\n",
    "        self.heuristic=heuristic\n",
    "\n",
    "    \n",
    "    \n",
    "    # explore all available action\n",
    "    def generate_children(self, W, V, C , heuristic_list,picks,explord_set ):\n",
    "        remain=picks\n",
    "        for i in range(len(W)) :\n",
    "            new_w=self.w+W[i]\n",
    "            bit=remain&1   # pick first digit\n",
    "            remain>>=2\n",
    "            new_pick=picks| 1<<i\n",
    "            if not bit and  new_w<=C and not(new_pick in explord_set):\n",
    "              explord_set.add(new_pick)\n",
    "              yield Node(new_w,self.v+V[i],self.level+1,self.heuristic+heuristic_list[i], new_pick)\n",
    "\n",
    "        \n",
    "\n",
    "    # To meet heapfiy requirement\n",
    "    def __lt__ (self,other):\n",
    "        return -self.heuristic<-other.heuristic\n"
   ]
  },
  {
   "cell_type": "code",
   "execution_count": 8,
   "metadata": {},
   "outputs": [],
   "source": [
    "\n",
    "def A_star_search(W, V, C):\n",
    "    W.reverse()\n",
    "    V.reverse()\n",
    "    heuristic_list=[ V[i]/W[i] for i in range(len(W))]\n",
    "    root=Node(0,0,0,0,0)\n",
    "    queue=[(-root.heuristic, root)] # the negitave hueuristic is the Priority (-hue, refrance to state)\n",
    "    heapify(queue) \n",
    "    best_Node=None\n",
    "    best_v=-float('inf')\n",
    "    explord=set()\n",
    "    while len(queue) !=0: # while queue is not empty\n",
    "        currunt=heappop(queue) \n",
    "        for child in currunt[1].generate_children( W, V, C ,heuristic_list, currunt[1].picked, explord):\n",
    "                if child.heuristic > currunt[1].heuristic:\n",
    "                    heappush(queue,(-child.heuristic, child))\n",
    "\n",
    "        \n",
    "        if best_v< currunt[1].v:\n",
    "             best_Node=currunt[1]\n",
    "             best_v=best_Node.v\n",
    "    #return binary to list\n",
    "    picks=best_Node.picked\n",
    "    best_picked=[0]*len(W)\n",
    "    for i in reversed(range(len(W))) :\n",
    "        m=picks&1\n",
    "        picks>>=1\n",
    "        best_picked[i]=m\n",
    "    return best_picked, best_Node.v, best_Node.w"
   ]
  },
  {
   "attachments": {},
   "cell_type": "markdown",
   "metadata": {},
   "source": [
    "### 1.3.2 Greedy best(not sure about the name)\n",
    "this is similar to A star with adding best_n options"
   ]
  },
  {
   "cell_type": "code",
   "execution_count": 16,
   "metadata": {},
   "outputs": [],
   "source": [
    "class Node2:\n",
    "    def __init__(self,w, v, level,heuristic,picked, action):\n",
    "        self.level=level\n",
    "        self.picked=picked\n",
    "        self.w=w\n",
    "        self.v=v\n",
    "        self.heuristic=heuristic\n",
    "        self.action=action\n",
    "\n",
    "    \n",
    "    \n",
    "    # explore best_n available action\n",
    "    def generate_children(self, W, V, C , heuristic_list,explord_set,best_n:int):\n",
    "        children=[]\n",
    "\n",
    "        if self.action is None:\n",
    "            for i in range(best_n):\n",
    "                item_index=heuristic_list[i][1]\n",
    "                new_pick=self.picked| 1<<item_index\n",
    "                children.append(Node2(self.w+W[item_index],self.v+V[item_index],self.level+1,self.heuristic+heuristic_list[i][0],new_pick,i))\n",
    "        else:\n",
    "            for i in range(self.action+1, self.action+best_n+1):\n",
    "                i%=len(heuristic_list)\n",
    "                item_index=heuristic_list[i][1]\n",
    "                new_pick=self.picked| 1<<item_index\n",
    "                new_w=self.w+W[item_index]\n",
    "                if(new_w<=C and  not new_pick in explord_set):\n",
    "                    children.append(Node2(new_w,self.v+V[item_index],self.level+1,self.heuristic+heuristic_list[i][0],new_pick,i))\n",
    "                    explord_set.add(new_pick)\n",
    "        return children\n",
    "\n",
    "    # To meet heapfiy requirement\n",
    "    def __lt__ (self,other):\n",
    "        return -self.heuristic<-other.heuristic"
   ]
  },
  {
   "cell_type": "code",
   "execution_count": 17,
   "metadata": {},
   "outputs": [],
   "source": [
    "def greedy_best_search(W, V, C, best_n:int=4):\n",
    "    heuristic_list=[ (V[i]/W[i],i) for i in range(len(W))]\n",
    "    heuristic_list.sort(reverse=True)\n",
    "    root=Node2(0,0,0,0,0,None)\n",
    "    queue=[(-root.heuristic, root)] # the negitave hueuristic is the Priority (-hue, refrance to state)\n",
    "    heapify(queue) \n",
    "    best_Node=None\n",
    "    best_v=-float('inf')\n",
    "    explord=set()\n",
    "    while len(queue) !=0: # while queue is not empty\n",
    "        currunt=heappop(queue) \n",
    "        for child in currunt[1].generate_children( W, V, C ,heuristic_list,explord, best_n):\n",
    "                if child.heuristic > currunt[1].heuristic:\n",
    "                    heappush(queue,(-child.heuristic, child))\n",
    "\n",
    "        \n",
    "        if best_v< currunt[1].v:\n",
    "             best_Node=currunt[1]\n",
    "             best_v=best_Node.v\n",
    "    \n",
    "    #turn binary to list\n",
    "    picks=best_Node.picked\n",
    "    best_picked=[0]*len(W)\n",
    "    for i in reversed(range(len(W))) :\n",
    "        m=picks&1\n",
    "        picks>>=1\n",
    "        best_picked[i]=m\n",
    "    return best_picked, best_Node.v, best_Node.w"
   ]
  },
  {
   "attachments": {},
   "cell_type": "markdown",
   "metadata": {},
   "source": [
    "# Exact Method"
   ]
  },
  {
   "attachments": {},
   "cell_type": "markdown",
   "metadata": {},
   "source": [
    "##  Brute Force\n",
    "give you all optimal solutions "
   ]
  },
  {
   "cell_type": "code",
   "execution_count": 12,
   "metadata": {},
   "outputs": [],
   "source": [
    "def knapsack_brute_force(W, V, C):\n",
    "    N = len(W)\n",
    "    max_value = 0\n",
    "    best_picked = []\n",
    "    \n",
    "    for i in range(1, N + 1):\n",
    "        combinations = itertools.combinations(range(N), i)\n",
    "        for combination in combinations:\n",
    "            picked = [0] * N # make list of zeros\n",
    "            weight = 0\n",
    "            value = 0\n",
    "            for j in combination:\n",
    "                picked[j] = 1\n",
    "                weight += W[j]\n",
    "                value += V[j]\n",
    "            if weight <= C and value == max_value:\n",
    "                best_picked.append(picked)\n",
    "            if weight <= C and value > max_value:\n",
    "                max_value = value\n",
    "                best_picked = [ picked ]\n",
    "    \n",
    "    return best_picked, max_value, sum([W[i] for i in range(N) if best_picked[0][i] == 1])"
   ]
  },
  {
   "attachments": {},
   "cell_type": "markdown",
   "metadata": {},
   "source": [
    "## Dynamic programming"
   ]
  },
  {
   "cell_type": "code",
   "execution_count": 13,
   "metadata": {},
   "outputs": [],
   "source": [
    "def knapsack_dynamic_programming(W, V, C):\n",
    "    T=[[0]*(C+1) for _ in range(len(W)+1)] # lists of zeros (C+1) x (W+1)\n",
    "\n",
    "    for i in range(1,len(W)+1):\n",
    "      for c in range(1,C+1):\n",
    "        T[i][c]=max(T[i-1][c], T[i-1][c-W[i-1]]+V[i-1]) if (W[i-1]<=c) else T[i-1][c]\n",
    "    \n",
    "    # backtracking\n",
    "    best_picked=[0]*len(W)\n",
    "    total_weight=0\n",
    "    current_value=T[len(W)][C]\n",
    "    current_C=C \n",
    "    for i in reversed(range(len(W))):\n",
    "      if current_value!= T[i][current_C]:\n",
    "        best_picked[i]=1\n",
    "        current_value-=V[i]\n",
    "        total_weight+=W[i]\n",
    "        current_C-=W[i]\n",
    "\n",
    "    return best_picked,T[len(W)][C], total_weight"
   ]
  },
  {
   "cell_type": "code",
   "execution_count": 14,
   "metadata": {},
   "outputs": [
    {
     "name": "stdout",
     "output_type": "stream",
     "text": [
      "Items picked: [1, 0, 1, 1, 1, 0, 0, 0, 1, 1]\n",
      "Total value: 452464\n",
      "Total weight: 89046\n"
     ]
    }
   ],
   "source": [
    "w = ( 8672, 33819, 15522, 18766, 6981, 36714, 28014, 33108, 36091, 3014 )\n",
    "v = ( 85243, 44610, 67702, 66560, 74515, 14032, 41000, 55416, 83574, 74870 )\n",
    "picked, total_value, total_weight = knapsack_dynamic_programming(w, v, 89654)\n",
    "print(\"Items picked:\", picked)\n",
    "print(\"Total value:\", total_value)\n",
    "print(\"Total weight:\", total_weight)"
   ]
  },
  {
   "attachments": {},
   "cell_type": "markdown",
   "metadata": {},
   "source": [
    "# Performence"
   ]
  },
  {
   "cell_type": "code",
   "execution_count": 10,
   "metadata": {},
   "outputs": [],
   "source": [
    "# Example usage\n",
    "C = 10000\n",
    "W = [rd.randint(1,1000) for _ in range(23)]\n",
    "V = [ rd.randint(1,1000) for _ in range(23)]"
   ]
  },
  {
   "attachments": {},
   "cell_type": "markdown",
   "metadata": {},
   "source": [
    "## comparing running time \n",
    "This is not accurate.  we have to try different inputs but this just to get insghit"
   ]
  },
  {
   "cell_type": "code",
   "execution_count": 33,
   "metadata": {},
   "outputs": [
    {
     "name": "stdout",
     "output_type": "stream",
     "text": [
      "402 µs ± 5.09 µs per loop (mean ± std. dev. of 7 runs, 1,000 loops each)\n"
     ]
    }
   ],
   "source": [
    "%%timeit\n",
    "picked, total_value, total_weight = knapsack_greedy_foreset(W, V, C)"
   ]
  },
  {
   "cell_type": "code",
   "execution_count": 18,
   "metadata": {},
   "outputs": [
    {
     "name": "stdout",
     "output_type": "stream",
     "text": [
      "7.15 s ± 31 ms per loop (mean ± std. dev. of 7 runs, 1 loop each)\n"
     ]
    }
   ],
   "source": [
    "%%timeit\n",
    "picked, total_value, total_weight = greedy_best_search(W, V, C)"
   ]
  },
  {
   "cell_type": "code",
   "execution_count": 18,
   "metadata": {},
   "outputs": [
    {
     "name": "stdout",
     "output_type": "stream",
     "text": [
      "35.8 s ± 594 ms per loop (mean ± std. dev. of 7 runs, 1 loop each)\n"
     ]
    }
   ],
   "source": [
    "%%timeit\n",
    "picked, total_value, total_weight = A_star_search(W, V, C)"
   ]
  },
  {
   "cell_type": "code",
   "execution_count": 19,
   "metadata": {},
   "outputs": [
    {
     "name": "stdout",
     "output_type": "stream",
     "text": [
      "5.98 s ± 122 ms per loop (mean ± std. dev. of 7 runs, 1 loop each)\n"
     ]
    }
   ],
   "source": [
    "%%timeit\n",
    "picked, total_value, total_weight = knapsack_brute_force(W, V, C)"
   ]
  },
  {
   "cell_type": "code",
   "execution_count": 20,
   "metadata": {},
   "outputs": [
    {
     "name": "stdout",
     "output_type": "stream",
     "text": [
      "46.7 ms ± 221 µs per loop (mean ± std. dev. of 7 runs, 10 loops each)\n"
     ]
    }
   ],
   "source": [
    "%%timeit\n",
    "picked, total_value, total_weight = knapsack_dynamic_programming(W, V, C)"
   ]
  },
  {
   "attachments": {},
   "cell_type": "markdown",
   "metadata": {},
   "source": [
    "## Example Usage"
   ]
  },
  {
   "cell_type": "code",
   "execution_count": 21,
   "metadata": {},
   "outputs": [
    {
     "name": "stdout",
     "output_type": "stream",
     "text": [
      "Items picked: [[1, 1, 1, 1, 0, 1, 1, 0, 1, 1, 1, 1, 1, 1, 1, 1, 1, 1, 1, 1, 0, 1, 1]]\n",
      "Total value: 12297\n",
      "Total weight: 9662\n"
     ]
    }
   ],
   "source": [
    "picked, total_value, total_weight = knapsack_brute_force(W, V, C)\n",
    "print(\"Items picked:\", picked)\n",
    "print(\"Total value:\", total_value)\n",
    "print(\"Total weight:\", total_weight)"
   ]
  },
  {
   "cell_type": "code",
   "execution_count": 22,
   "metadata": {},
   "outputs": [
    {
     "name": "stdout",
     "output_type": "stream",
     "text": [
      "Items picked: [1, 1, 1, 1, 0, 1, 1, 0, 1, 1, 1, 1, 1, 1, 1, 1, 1, 1, 1, 1, 0, 1, 1]\n",
      "Total value: 12297\n",
      "Total weight: 9662\n"
     ]
    }
   ],
   "source": [
    "picked, total_value, total_weight = knapsack_dynamic_programming(W, V, C)\n",
    "print(\"Items picked:\", picked)\n",
    "print(\"Total value:\", total_value)\n",
    "print(\"Total weight:\", total_weight)"
   ]
  },
  {
   "cell_type": "code",
   "execution_count": 11,
   "metadata": {},
   "outputs": [
    {
     "name": "stdout",
     "output_type": "stream",
     "text": [
      "Items picked: [1, 1, 1, 1, 1, 1, 1, 1, 1, 1, 1, 1, 1, 0, 1, 1, 1, 1, 0, 1, 1, 1, 0]\n",
      "Total value: 10631\n",
      "Total weight: 9868\n"
     ]
    }
   ],
   "source": [
    "picked, total_value, total_weight = A_star_search(W, V, C)\n",
    "print(\"Items picked:\", picked)\n",
    "print(\"Total value:\", total_value)\n",
    "print(\"Total weight:\", total_weight)"
   ]
  },
  {
   "cell_type": "code",
   "execution_count": 12,
   "metadata": {},
   "outputs": [
    {
     "name": "stdout",
     "output_type": "stream",
     "text": [
      "Items picked: [1, 1, 1, 1, 1, 1, 1, 1, 1, 1, 1, 1, 1, 0, 1, 1, 1, 1, 0, 1, 1, 1, 0]\n",
      "Total value: 10631\n",
      "Total weight: 9868\n"
     ]
    }
   ],
   "source": [
    "picked, total_value, total_weight = knapsack_greedy_foreset(W, V, C)\n",
    "print(\"Items picked:\", picked)\n",
    "print(\"Total value:\", total_value)\n",
    "print(\"Total weight:\", total_weight)"
   ]
  },
  {
   "cell_type": "code",
   "execution_count": 25,
   "metadata": {},
   "outputs": [
    {
     "name": "stdout",
     "output_type": "stream",
     "text": [
      "Items picked: [1, 1, 1, 1, 0, 1, 1, 0, 1, 1, 1, 1, 1, 1, 1, 1, 1, 1, 1, 1, 0, 1, 1]\n",
      "Total value: 12297\n",
      "Total weight: 9662\n"
     ]
    }
   ],
   "source": [
    "picked, total_value, total_weight = greedy_best_search(W, V, C)\n",
    "print(\"Items picked:\", picked)\n",
    "print(\"Total value:\", total_value)\n",
    "print(\"Total weight:\", total_weight)"
   ]
  },
  {
   "attachments": {},
   "cell_type": "markdown",
   "metadata": {},
   "source": [
    "# Instances and Comparison"
   ]
  },
  {
   "cell_type": "code",
   "execution_count": 35,
   "metadata": {},
   "outputs": [],
   "source": [
    "benchmark={}\n",
    "for ex, ex_data in data.items():\n",
    "    benchmark['C']=benchmark.get('C',())+(ex_data['C'],)\n",
    "    benchmark['W_len']=benchmark.get('W_len', ())+(len(ex_data['W']),)\n",
    "    _ , total_value, total_weight = knapsack_greedy_foreset(ex_data['W'], ex_data['V'],ex_data['C'])\n",
    "    benchmark['Greedy F Value']=benchmark.get('Greedy F Value',())+(total_value,)\n",
    "    benchmark['Greedy F Weight']=benchmark.get('Greedy F Weight',())+(total_weight,) \n",
    "    _ , total_value, total_weight = greedy_best_search(ex_data['W'], ex_data['V'],ex_data['C'])\n",
    "    benchmark['Greedy B Value']=benchmark.get('Greedy B Value',())+(total_value,)\n",
    "    benchmark['Greedy B Weight']=benchmark.get('Greedy B Weight',())+(total_weight,) \n",
    "    _ , total_value, total_weight = knapsack_brute_force(ex_data['W'], ex_data['V'],ex_data['C'])\n",
    "    benchmark['OPT Value']=benchmark.get('OPT Value',())+(total_value,)\n",
    "    benchmark['OPT Weight']=benchmark.get('OPT Weight',())+(total_weight,) "
   ]
  },
  {
   "cell_type": "code",
   "execution_count": 36,
   "metadata": {},
   "outputs": [],
   "source": [
    "bench_df=pd.DataFrame(benchmark, index=data.keys())"
   ]
  },
  {
   "cell_type": "code",
   "execution_count": 37,
   "metadata": {},
   "outputs": [],
   "source": [
    "bench_df['Greedy B/OPT']=bench_df['Greedy B Value']/bench_df['OPT Value']\n",
    "bench_df['Greedy F/OPT']=bench_df['Greedy F Value']/bench_df['OPT Value']"
   ]
  },
  {
   "cell_type": "code",
   "execution_count": 38,
   "metadata": {},
   "outputs": [
    {
     "data": {
      "text/html": [
       "<div>\n",
       "<style scoped>\n",
       "    .dataframe tbody tr th:only-of-type {\n",
       "        vertical-align: middle;\n",
       "    }\n",
       "\n",
       "    .dataframe tbody tr th {\n",
       "        vertical-align: top;\n",
       "    }\n",
       "\n",
       "    .dataframe thead th {\n",
       "        text-align: right;\n",
       "    }\n",
       "</style>\n",
       "<table border=\"1\" class=\"dataframe\">\n",
       "  <thead>\n",
       "    <tr style=\"text-align: right;\">\n",
       "      <th></th>\n",
       "      <th>C</th>\n",
       "      <th>W_len</th>\n",
       "      <th>Greedy F Value</th>\n",
       "      <th>Greedy F Weight</th>\n",
       "      <th>Greedy B Value</th>\n",
       "      <th>Greedy B Weight</th>\n",
       "      <th>OPT Value</th>\n",
       "      <th>OPT Weight</th>\n",
       "      <th>Greedy B/OPT</th>\n",
       "      <th>Greedy F/OPT</th>\n",
       "    </tr>\n",
       "  </thead>\n",
       "  <tbody>\n",
       "    <tr>\n",
       "      <th>p01</th>\n",
       "      <td>165</td>\n",
       "      <td>10</td>\n",
       "      <td>309</td>\n",
       "      <td>165</td>\n",
       "      <td>309</td>\n",
       "      <td>165</td>\n",
       "      <td>309</td>\n",
       "      <td>165</td>\n",
       "      <td>1.0</td>\n",
       "      <td>1.000000</td>\n",
       "    </tr>\n",
       "    <tr>\n",
       "      <th>p02</th>\n",
       "      <td>26</td>\n",
       "      <td>5</td>\n",
       "      <td>51</td>\n",
       "      <td>26</td>\n",
       "      <td>51</td>\n",
       "      <td>26</td>\n",
       "      <td>51</td>\n",
       "      <td>26</td>\n",
       "      <td>1.0</td>\n",
       "      <td>1.000000</td>\n",
       "    </tr>\n",
       "    <tr>\n",
       "      <th>p03</th>\n",
       "      <td>190</td>\n",
       "      <td>6</td>\n",
       "      <td>150</td>\n",
       "      <td>190</td>\n",
       "      <td>150</td>\n",
       "      <td>190</td>\n",
       "      <td>150</td>\n",
       "      <td>190</td>\n",
       "      <td>1.0</td>\n",
       "      <td>1.000000</td>\n",
       "    </tr>\n",
       "    <tr>\n",
       "      <th>p04</th>\n",
       "      <td>50</td>\n",
       "      <td>7</td>\n",
       "      <td>107</td>\n",
       "      <td>50</td>\n",
       "      <td>107</td>\n",
       "      <td>50</td>\n",
       "      <td>107</td>\n",
       "      <td>50</td>\n",
       "      <td>1.0</td>\n",
       "      <td>1.000000</td>\n",
       "    </tr>\n",
       "    <tr>\n",
       "      <th>p05</th>\n",
       "      <td>104</td>\n",
       "      <td>8</td>\n",
       "      <td>900</td>\n",
       "      <td>104</td>\n",
       "      <td>900</td>\n",
       "      <td>104</td>\n",
       "      <td>900</td>\n",
       "      <td>104</td>\n",
       "      <td>1.0</td>\n",
       "      <td>1.000000</td>\n",
       "    </tr>\n",
       "    <tr>\n",
       "      <th>p06</th>\n",
       "      <td>170</td>\n",
       "      <td>7</td>\n",
       "      <td>1735</td>\n",
       "      <td>169</td>\n",
       "      <td>1735</td>\n",
       "      <td>169</td>\n",
       "      <td>1735</td>\n",
       "      <td>169</td>\n",
       "      <td>1.0</td>\n",
       "      <td>1.000000</td>\n",
       "    </tr>\n",
       "    <tr>\n",
       "      <th>p07</th>\n",
       "      <td>750</td>\n",
       "      <td>15</td>\n",
       "      <td>1452</td>\n",
       "      <td>747</td>\n",
       "      <td>1458</td>\n",
       "      <td>749</td>\n",
       "      <td>1458</td>\n",
       "      <td>749</td>\n",
       "      <td>1.0</td>\n",
       "      <td>0.995885</td>\n",
       "    </tr>\n",
       "    <tr>\n",
       "      <th>p08</th>\n",
       "      <td>6404180</td>\n",
       "      <td>24</td>\n",
       "      <td>13415886</td>\n",
       "      <td>6323699</td>\n",
       "      <td>13549094</td>\n",
       "      <td>6402560</td>\n",
       "      <td>13549094</td>\n",
       "      <td>6402560</td>\n",
       "      <td>1.0</td>\n",
       "      <td>0.990168</td>\n",
       "    </tr>\n",
       "  </tbody>\n",
       "</table>\n",
       "</div>"
      ],
      "text/plain": [
       "           C  W_len  Greedy F Value  Greedy F Weight  Greedy B Value  \\\n",
       "p01      165     10             309              165             309   \n",
       "p02       26      5              51               26              51   \n",
       "p03      190      6             150              190             150   \n",
       "p04       50      7             107               50             107   \n",
       "p05      104      8             900              104             900   \n",
       "p06      170      7            1735              169            1735   \n",
       "p07      750     15            1452              747            1458   \n",
       "p08  6404180     24        13415886          6323699        13549094   \n",
       "\n",
       "     Greedy B Weight  OPT Value  OPT Weight  Greedy B/OPT  Greedy F/OPT  \n",
       "p01              165        309         165           1.0      1.000000  \n",
       "p02               26         51          26           1.0      1.000000  \n",
       "p03              190        150         190           1.0      1.000000  \n",
       "p04               50        107          50           1.0      1.000000  \n",
       "p05              104        900         104           1.0      1.000000  \n",
       "p06              169       1735         169           1.0      1.000000  \n",
       "p07              749       1458         749           1.0      0.995885  \n",
       "p08          6402560   13549094     6402560           1.0      0.990168  "
      ]
     },
     "execution_count": 38,
     "metadata": {},
     "output_type": "execute_result"
    }
   ],
   "source": [
    "bench_df"
   ]
  },
  {
   "cell_type": "code",
   "execution_count": 39,
   "metadata": {},
   "outputs": [
    {
     "data": {
      "text/plain": [
       "<Axes: >"
      ]
     },
     "execution_count": 39,
     "metadata": {},
     "output_type": "execute_result"
    },
    {
     "data": {
      "image/png": "[encoded data removed]",
      "text/plain": [
       "<Figure size 640x480 with 1 Axes>"
      ]
     },
     "metadata": {},
     "output_type": "display_data"
    }
   ],
   "source": [
    "bench_df.loc[:,['Greedy B/OPT','Greedy F/OPT']].plot()"
   ]
  },
  {
   "cell_type": "code",
   "execution_count": 31,
   "metadata": {},
   "outputs": [
    {
     "data": {
      "text/plain": [
       "309"
      ]
     },
     "execution_count": 31,
     "metadata": {},
     "output_type": "execute_result"
    }
   ],
   "source": [
    "sum([data['p01']['V'][i]for i,p in enumerate(data['p01']['S']) if p ])"
   ]
  },
  {
   "attachments": {},
   "cell_type": "markdown",
   "metadata": {},
   "source": [
    "# Conclusion\n",
    "\n",
    "Each algorithm has its strengths and weakneass. For instance, basic greedy is very efficient and give very good resualts. However, when we have so many items and low capacity. dynamic programming is efficient and optimal. On the other hand, if we have high capacity and few items then brute force is a good one. Greedy best and A_star are efficient and optimal(with the right n_best for greedy) if the item wights are big compared to the capacity. "
   ]
  }
 ],
 "metadata": {
  "kernelspec": {
   "display_name": "base",
   "language": "python",
   "name": "python3"
  },
  "language_info": {
   "codemirror_mode": {
    "name": "ipython",
    "version": 3
   },
   "file_extension": ".py",
   "mimetype": "text/x-python",
   "name": "python",
   "nbconvert_exporter": "python",
   "pygments_lexer": "ipython3",
   "version": "3.9.18"
  },
  "orig_nbformat": 4
 },
 "nbformat": 4,
 "nbformat_minor": 2
}
